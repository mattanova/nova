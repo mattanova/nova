{
 "cells": [
  {
   "cell_type": "code",
   "execution_count": 42,
   "id": "a03e7fb9",
   "metadata": {},
   "outputs": [
    {
     "name": "stdout",
     "output_type": "stream",
     "text": [
      "data sets: [['SF', 'LA', '3', '700'], ['SF', 'NY', '1', '1600'], ['LA', 'NY', '6', '1500'], ['LA', 'DAL', '2', '1100'], ['NY', 'PHI', '4', '500'], ['PHI', 'DAL', '5', '1300']]\n"
     ]
    }
   ],
   "source": [
    "from cmath import sqrt\n",
    "import numpy as np\n",
    "from prettytable import PrettyTable \n",
    "\n",
    "tolerance = 10\n",
    "dif = 10\n",
    "iteration = 0\n",
    "\n",
    "line = list([])\n",
    "cap_log = list([])\n",
    "delay_log = list([])\n",
    "path_to_file =r\"C:\\Users\\Asus\\Desktop\\devoir1_entrees.txt\"\n",
    "with open(path_to_file) as f:\n",
    "    lines = f.readlines()\n",
    "for element in lines:\n",
    "    line.append(element.split())\n",
    "line.pop(0) # removing the table headers\n",
    "print(\"data sets:\", line)"
   ]
  },
  {
   "cell_type": "code",
   "execution_count": 43,
   "id": "1c372e86",
   "metadata": {},
   "outputs": [
    {
     "data": {
      "text/plain": [
       "[700.0, 1600.0, 1500.0, 1100.0, 500.0, 1300.0]"
      ]
     },
     "execution_count": 43,
     "metadata": {},
     "output_type": "execute_result"
    }
   ],
   "source": [
    "flow = list([])\n",
    "k = list([])\n",
    "for i in line:\n",
    "    flow.append(i[2])\n",
    "    k.append(i[3])\n",
    "K = 30000\n",
    "delay = 10\n",
    "p = 0.5\n",
    "flow = np.array(flow, dtype='float64')\n",
    "c = np.array([1.6,1.6,1.6,1.6,1.6,1.6])\n",
    "k = [float(i) for i in k]\n",
    "k"
   ]
  },
  {
   "cell_type": "code",
   "execution_count": 44,
   "id": "dda984dc",
   "metadata": {
    "scrolled": false
   },
   "outputs": [
    {
     "name": "stdout",
     "output_type": "stream",
     "text": [
      "\n",
      "final delay :  0.0952300587928227\n",
      "iteration :  5\n"
     ]
    }
   ],
   "source": [
    "while tolerance > 10e-6:\n",
    "    iteration+=1\n",
    "    kprime =np.array(k*c**(p-1)*p)\n",
    "    Kprime = K - sum((k*(c**p))*(1-p) + k)\n",
    "    cout_per_lien = k*(c**p) + k\n",
    "    f_over_k = flow/kprime\n",
    "    sqr = [sqrt(i) for i in f_over_k]\n",
    "    sqr = np.array(sqr)\n",
    "    sqr = sqr.real\n",
    "    scalar = (Kprime - sum(flow*kprime))/sum(kprime*sqr)*sqr\n",
    "    c_next = scalar + flow\n",
    "    c = c_next\n",
    "    new_delay = (flow/(c_next-flow)) / sum(flow) #reconsider how you calculate the delay!\n",
    "    nd = sum(new_delay)\n",
    "    tolerance = delay - nd # to stop when the algorithm isn't progressing anymore\n",
    "    delay = nd.real\n",
    "    c = c_next\n",
    "    cap_log.append(c)\n",
    "    delay_log.append(delay)\n",
    "print('\\nfinal delay : ', delay)\n",
    "print(\"iteration : \", iteration)\n",
    "delay_log = [format(float(i),'.4f') for i in delay_log]\n",
    "cap_log = [[i[0] for i in cap_log], [i[1] for i in cap_log], [i[2] for i in cap_log], [i[3] for i in cap_log], [i[4] for i in cap_log], [i[5] for i in cap_log]]\n",
    "cap_log_real=list([])\n",
    "for element in cap_log:\n",
    "    element = [i.real for  i in element]\n",
    "    element = [format(float(i),'.4f') for i in element]\n",
    "    cap_log_real.append(element)"
   ]
  },
  {
   "cell_type": "code",
   "execution_count": 45,
   "id": "16c3dd79",
   "metadata": {},
   "outputs": [],
   "source": [
    "head = [ i for i in range(1,iteration+1)]"
   ]
  },
  {
   "cell_type": "code",
   "execution_count": 46,
   "id": "e95d358c",
   "metadata": {},
   "outputs": [],
   "source": [
    "import pandas as pd"
   ]
  },
  {
   "cell_type": "code",
   "execution_count": 47,
   "id": "185b06cb",
   "metadata": {},
   "outputs": [],
   "source": [
    "part1 = [i[0] for i in line]\n",
    "part2 = [i[1] for i in line]\n",
    "s = pd.DataFrame(cap_log_real, index=[part1, part2], columns = [head, delay_log])"
   ]
  },
  {
   "cell_type": "code",
   "execution_count": 57,
   "id": "80b84730",
   "metadata": {},
   "outputs": [
    {
     "data": {
      "text/html": [
       "<div>\n",
       "<style scoped>\n",
       "    .dataframe tbody tr th:only-of-type {\n",
       "        vertical-align: middle;\n",
       "    }\n",
       "\n",
       "    .dataframe tbody tr th {\n",
       "        vertical-align: top;\n",
       "    }\n",
       "\n",
       "    .dataframe thead tr th {\n",
       "        text-align: left;\n",
       "    }\n",
       "</style>\n",
       "<table border=\"1\" class=\"dataframe\">\n",
       "  <thead>\n",
       "    <tr>\n",
       "      <th></th>\n",
       "      <th></th>\n",
       "      <th>1</th>\n",
       "      <th>2</th>\n",
       "      <th>3</th>\n",
       "      <th>4</th>\n",
       "      <th>5</th>\n",
       "    </tr>\n",
       "    <tr>\n",
       "      <th></th>\n",
       "      <th></th>\n",
       "      <th>0.2389</th>\n",
       "      <th>0.1043</th>\n",
       "      <th>0.0954</th>\n",
       "      <th>0.0952</th>\n",
       "      <th>0.0952</th>\n",
       "    </tr>\n",
       "  </thead>\n",
       "  <tbody>\n",
       "    <tr>\n",
       "      <th rowspan=\"2\" valign=\"top\">SF</th>\n",
       "      <th>LA</th>\n",
       "      <td>7.6046</td>\n",
       "      <td>13.6165</td>\n",
       "      <td>14.8070</td>\n",
       "      <td>14.8798</td>\n",
       "      <td>14.8907</td>\n",
       "    </tr>\n",
       "    <tr>\n",
       "      <th>NY</th>\n",
       "      <td>2.7584</td>\n",
       "      <td>4.1463</td>\n",
       "      <td>4.3494</td>\n",
       "      <td>4.3399</td>\n",
       "      <td>4.3370</td>\n",
       "    </tr>\n",
       "    <tr>\n",
       "      <th rowspan=\"2\" valign=\"top\">LA</th>\n",
       "      <th>NY</th>\n",
       "      <td>10.4485</td>\n",
       "      <td>17.1043</td>\n",
       "      <td>18.0759</td>\n",
       "      <td>18.0638</td>\n",
       "      <td>18.0581</td>\n",
       "    </tr>\n",
       "    <tr>\n",
       "      <th>DAL</th>\n",
       "      <td>4.9992</td>\n",
       "      <td>8.2265</td>\n",
       "      <td>8.7801</td>\n",
       "      <td>8.7901</td>\n",
       "      <td>8.7899</td>\n",
       "    </tr>\n",
       "    <tr>\n",
       "      <th>NY</th>\n",
       "      <th>PHI</th>\n",
       "      <td>10.2911</td>\n",
       "      <td>19.6445</td>\n",
       "      <td>21.6794</td>\n",
       "      <td>21.8541</td>\n",
       "      <td>21.8844</td>\n",
       "    </tr>\n",
       "    <tr>\n",
       "      <th>PHI</th>\n",
       "      <th>DAL</th>\n",
       "      <td>9.3621</td>\n",
       "      <td>15.5939</td>\n",
       "      <td>16.5709</td>\n",
       "      <td>16.5752</td>\n",
       "      <td>16.5725</td>\n",
       "    </tr>\n",
       "  </tbody>\n",
       "</table>\n",
       "</div>"
      ],
      "text/plain": [
       "               1        2        3        4        5\n",
       "          0.2389   0.1043   0.0954   0.0952   0.0952\n",
       "SF  LA    7.6046  13.6165  14.8070  14.8798  14.8907\n",
       "    NY    2.7584   4.1463   4.3494   4.3399   4.3370\n",
       "LA  NY   10.4485  17.1043  18.0759  18.0638  18.0581\n",
       "    DAL   4.9992   8.2265   8.7801   8.7901   8.7899\n",
       "NY  PHI  10.2911  19.6445  21.6794  21.8541  21.8844\n",
       "PHI DAL   9.3621  15.5939  16.5709  16.5752  16.5725"
      ]
     },
     "execution_count": 57,
     "metadata": {},
     "output_type": "execute_result"
    }
   ],
   "source": [
    "s"
   ]
  },
  {
   "cell_type": "code",
   "execution_count": 58,
   "id": "e816194e",
   "metadata": {},
   "outputs": [
    {
     "name": "stdout",
     "output_type": "stream",
     "text": [
      "The following data frame represents progerssion of capacities for each line in each iteration. \n",
      "It also shows overal delay for each iteration\n"
     ]
    }
   ],
   "source": [
    "print('The following data frame represents progerssion of capacities for each line in each iteration. \\nIt also shows overal delay for each iteration')"
   ]
  },
  {
   "cell_type": "code",
   "execution_count": 50,
   "id": "eeb6dffd",
   "metadata": {},
   "outputs": [],
   "source": [
    "c = [ i.real for i in c]\n",
    "new_delay = [ i.real for i in new_delay]\n",
    "temp_row = list([])\n",
    "rows = list([])\n",
    "data = list([])\n",
    "for i in range(0,iteration+1): # check to see whats wrong with the loop\n",
    "    data.clear()\n",
    "    temp_row.clear()\n",
    "    for j in range (0,4):\n",
    "        temp = line[i]\n",
    "        data.append(temp[j])\n",
    "    for k in data:\n",
    "        rows.append(k)\n",
    "    temp_row.append(c[i])\n",
    "    temp_row.append(flow[i]/c[i])\n",
    "    temp_row.append(new_delay[i])\n",
    "    temp_row.append(cout_per_lien[i])\n",
    "    for i in temp_row:\n",
    "        rows.append(i)"
   ]
  },
  {
   "cell_type": "code",
   "execution_count": 51,
   "id": "79730d9b",
   "metadata": {},
   "outputs": [],
   "source": [
    "dataset = list([])\n",
    "temp2 = list([])\n",
    "upper_lim = int(len(rows)/len(line))\n",
    "data_set = [ rows[i*upper_lim:(i+1)*upper_lim] for i in range(len(rows) // upper_lim)]"
   ]
  },
  {
   "cell_type": "code",
   "execution_count": 52,
   "id": "b4cc872a",
   "metadata": {},
   "outputs": [],
   "source": [
    "s1 = pd.DataFrame(data_set,\n",
    "                  columns = ['line1', 'line2', 'flow', 'unit cost', 'capacity', 'utilization','delay', 'cost'])\n",
    "s1['index'] = ''\n",
    "s1.set_index('index', inplace=True)\n",
    "s1.index = s1.index.rename(None)"
   ]
  },
  {
   "cell_type": "code",
   "execution_count": 53,
   "id": "56839f62",
   "metadata": {},
   "outputs": [
    {
     "data": {
      "text/html": [
       "<div>\n",
       "<style scoped>\n",
       "    .dataframe tbody tr th:only-of-type {\n",
       "        vertical-align: middle;\n",
       "    }\n",
       "\n",
       "    .dataframe tbody tr th {\n",
       "        vertical-align: top;\n",
       "    }\n",
       "\n",
       "    .dataframe thead th {\n",
       "        text-align: right;\n",
       "    }\n",
       "</style>\n",
       "<table border=\"1\" class=\"dataframe\">\n",
       "  <thead>\n",
       "    <tr style=\"text-align: right;\">\n",
       "      <th></th>\n",
       "      <th>line1</th>\n",
       "      <th>line2</th>\n",
       "      <th>flow</th>\n",
       "      <th>unit cost</th>\n",
       "      <th>capacity</th>\n",
       "      <th>utilization</th>\n",
       "      <th>delay</th>\n",
       "      <th>cost</th>\n",
       "    </tr>\n",
       "  </thead>\n",
       "  <tbody>\n",
       "    <tr>\n",
       "      <th></th>\n",
       "      <td>SF</td>\n",
       "      <td>LA</td>\n",
       "      <td>3</td>\n",
       "      <td>700</td>\n",
       "      <td>14.890719</td>\n",
       "      <td>0.201468</td>\n",
       "      <td>0.012014</td>\n",
       "      <td>3400.204633</td>\n",
       "    </tr>\n",
       "    <tr>\n",
       "      <th></th>\n",
       "      <td>SF</td>\n",
       "      <td>NY</td>\n",
       "      <td>1</td>\n",
       "      <td>1600</td>\n",
       "      <td>4.337000</td>\n",
       "      <td>0.230574</td>\n",
       "      <td>0.014270</td>\n",
       "      <td>4933.173494</td>\n",
       "    </tr>\n",
       "    <tr>\n",
       "      <th></th>\n",
       "      <td>LA</td>\n",
       "      <td>NY</td>\n",
       "      <td>6</td>\n",
       "      <td>1500</td>\n",
       "      <td>18.058123</td>\n",
       "      <td>0.332260</td>\n",
       "      <td>0.023695</td>\n",
       "      <td>7875.237143</td>\n",
       "    </tr>\n",
       "    <tr>\n",
       "      <th></th>\n",
       "      <td>LA</td>\n",
       "      <td>DAL</td>\n",
       "      <td>2</td>\n",
       "      <td>1100</td>\n",
       "      <td>8.789908</td>\n",
       "      <td>0.227534</td>\n",
       "      <td>0.014026</td>\n",
       "      <td>4361.285217</td>\n",
       "    </tr>\n",
       "    <tr>\n",
       "      <th></th>\n",
       "      <td>NY</td>\n",
       "      <td>PHI</td>\n",
       "      <td>4</td>\n",
       "      <td>500</td>\n",
       "      <td>21.884440</td>\n",
       "      <td>0.182778</td>\n",
       "      <td>0.010650</td>\n",
       "      <td>2837.417699</td>\n",
       "    </tr>\n",
       "    <tr>\n",
       "      <th></th>\n",
       "      <td>PHI</td>\n",
       "      <td>DAL</td>\n",
       "      <td>5</td>\n",
       "      <td>1300</td>\n",
       "      <td>16.572455</td>\n",
       "      <td>0.301705</td>\n",
       "      <td>0.020574</td>\n",
       "      <td>6592.651949</td>\n",
       "    </tr>\n",
       "  </tbody>\n",
       "</table>\n",
       "</div>"
      ],
      "text/plain": [
       " line1 line2 flow unit cost   capacity  utilization     delay         cost\n",
       "    SF    LA    3       700  14.890719     0.201468  0.012014  3400.204633\n",
       "    SF    NY    1      1600   4.337000     0.230574  0.014270  4933.173494\n",
       "    LA    NY    6      1500  18.058123     0.332260  0.023695  7875.237143\n",
       "    LA   DAL    2      1100   8.789908     0.227534  0.014026  4361.285217\n",
       "    NY   PHI    4       500  21.884440     0.182778  0.010650  2837.417699\n",
       "   PHI   DAL    5      1300  16.572455     0.301705  0.020574  6592.651949"
      ]
     },
     "execution_count": 53,
     "metadata": {},
     "output_type": "execute_result"
    }
   ],
   "source": [
    "s1"
   ]
  },
  {
   "cell_type": "code",
   "execution_count": 54,
   "id": "0f155408",
   "metadata": {},
   "outputs": [
    {
     "name": "stdout",
     "output_type": "stream",
     "text": [
      "Total capacity: 84.53264436693809 \n",
      " Tota cost: 29999.97013532381\n"
     ]
    }
   ],
   "source": [
    "print('Total capacity:', sum(c), '\\n Tota cost:', sum(cout_per_lien))"
   ]
  }
 ],
 "metadata": {
  "kernelspec": {
   "display_name": "Python 3 (ipykernel)",
   "language": "python",
   "name": "python3"
  },
  "language_info": {
   "codemirror_mode": {
    "name": "ipython",
    "version": 3
   },
   "file_extension": ".py",
   "mimetype": "text/x-python",
   "name": "python",
   "nbconvert_exporter": "python",
   "pygments_lexer": "ipython3",
   "version": "3.10.2"
  }
 },
 "nbformat": 4,
 "nbformat_minor": 5
}
