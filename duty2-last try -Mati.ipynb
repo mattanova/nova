{
 "cells": [
  {
   "cell_type": "code",
   "execution_count": 19,
   "id": "d5629c54",
   "metadata": {},
   "outputs": [
    {
     "name": "stdout",
     "output_type": "stream",
     "text": [
      "Enter the number of lines: 3\n",
      "data sets: [['1', '3', '700', '1700'], ['2', '1', '1600', '4600'], ['3', '6', '1500', '2600']] \n",
      "capacities of each type: ['1', '3.5']\n"
     ]
    }
   ],
   "source": [
    "import re\n",
    "import collections\n",
    "import numpy as np\n",
    "\n",
    "line = list([])\n",
    "data = list([])\n",
    "line_num = input(\"Enter the number of lines: \") #user has to enter the number of lines if the input changes\n",
    "line_num = int(line_num)\n",
    "path_to_file =r\"devoir2_entrees.txt\"\n",
    "with open(path_to_file) as f:\n",
    "    lines = f.readlines()\n",
    "lines.pop(0) #removing the headers\n",
    "for element in lines:\n",
    "    element = re.split(r'\\s',element)\n",
    "    element.pop(-1)\n",
    "    data.append(element)\n",
    "data.pop(line_num)\n",
    "capacities = data[-1]\n",
    "data.pop(-1)\n",
    "print(\"data sets:\", data, '\\ncapacities of each type:', capacities)\n",
    "flow = list([])\n",
    "cost = list([])\n",
    "for i in data:\n",
    "    flow.append(float(i[1]))\n",
    "    cost.append((float(i[2]),float(i[3])))\n",
    "capacities = np.array(capacities)\n",
    "capacities = capacities.astype(float)\n",
    "sum_flow = sum(flow)"
   ]
  },
  {
   "cell_type": "code",
   "execution_count": 20,
   "id": "31e13040",
   "metadata": {},
   "outputs": [
    {
     "name": "stdout",
     "output_type": "stream",
     "text": [
      "[[(3400.0, 0.75), (5100.0, 0.4)], [(3200.0, 1.0), (4600.0, 0.4)], [(7800.0, 1.3333333333333333), (10400.0, 0.75), (13000.0, 0.5217391304347826), (15600.0, 0.4), (18200.0, 0.32432432432432434)]]\n",
      "dominant candidates per link\n",
      "line number    cost           congestion\n",
      "     1        3400.0       0.75\n",
      "     1        5100.0       0.4\n",
      "     2        3200.0       1.0\n",
      "     2        4600.0       0.4\n",
      "     3        7800.0       1.3333333333333333\n",
      "     3        10400.0       0.75\n",
      "     3        13000.0       0.5217391304347826\n",
      "     3        15600.0       0.4\n",
      "     3        18200.0       0.32432432432432434\n"
     ]
    }
   ],
   "source": [
    "import math\n",
    "import numpy as np\n",
    "\n",
    "cong_lim = 1.5\n",
    "util_upper = 0.667\n",
    "util_lower = 0.233\n",
    "cost_per_line = list([])\n",
    "cong = list([])\n",
    "candid = list([tuple])\n",
    "can_per_line = list([])\n",
    "mod_num = len(capacities)\n",
    "for l in range(0,line_num):\n",
    "    f = flow[l]\n",
    "    for m in range(0,mod_num):\n",
    "        candid.clear()\n",
    "        cap = capacities[m]\n",
    "        c_max = f/(util_lower)\n",
    "        c_min = math.ceil(f/(util_upper))\n",
    "        max_num = math.floor(c_max/cap)\n",
    "        min_num = math.ceil(c_min/cap)\n",
    "        for n in range(min_num, max_num+1):\n",
    "            temp_cong = f / (cap*n-f)\n",
    "            if temp_cong<= cong_lim:\n",
    "                cost_per_line = (cost[l][m]*n)\n",
    "                candid.append((cost_per_line, temp_cong))\n",
    "        if m == 0:\n",
    "            mode1 = candid.copy()\n",
    "        else:\n",
    "            mode2 = candid.copy()\n",
    "    memory = list([])\n",
    "    switch = False\n",
    "    for i in range(0,len(mode1)):\n",
    "        if mode1[i][0]<mode2[0][0]:\n",
    "            if mode1[i][1]<mode2[0][1]:\n",
    "                can_per_line.append(mode1)\n",
    "                break\n",
    "            else:\n",
    "                memory.extend(mode1[i])\n",
    "                switch = True\n",
    "        else:\n",
    "            if switch == True:\n",
    "                can_per_line += [[tuple(memory)] + mode2]\n",
    "            else:\n",
    "                can_per_line.append(mode2)    \n",
    "            break\n",
    "print(can_per_line)\n",
    "from operator import itemgetter\n",
    "print('dominant candidates per link')\n",
    "print('line number', '   cost      ', '    congestion' )\n",
    "for element in can_per_line:\n",
    "    for value in element:\n",
    "        print('    ', can_per_line.index(element)+1,'      ', value[0], '     ', value[1])"
   ]
  },
  {
   "cell_type": "code",
   "execution_count": 21,
   "id": "a7bdab4c",
   "metadata": {},
   "outputs": [
    {
     "name": "stdout",
     "output_type": "stream",
     "text": [
      "iteration:  0 \n",
      "cost per link:  [3400.0, 3200.0, 7800.0] \n",
      "congestion per link:  [0.75, 1.0, 1.3333333333333333] \n",
      "sum cost:  14400.0 \n",
      "sum congestion:  3.083333333333333 \n",
      "--------------\n"
     ]
    }
   ],
   "source": [
    "iteration = 0\n",
    "prev_cost = list([]) \n",
    "prev_congestion = list([]) \n",
    "can_per_line_copy = [i[0] for i in can_per_line]\n",
    "for l in range(0,line_num):\n",
    "    value = can_per_line[l][0]\n",
    "    prev_cost.append(value[0])\n",
    "    prev_congestion.append(value[1])\n",
    "    del can_per_line[l][0]\n",
    "cost_sum = (sum(prev_cost))\n",
    "cong_sum = sum(prev_congestion)\n",
    "print(\"iteration: \", iteration , \"\\ncost per link: \", prev_cost, \"\\ncongestion per link: \",\n",
    "      prev_congestion, \"\\nsum cost: \", cost_sum, \"\\nsum congestion: \", cong_sum, \"\\n--------------\")"
   ]
  },
  {
   "cell_type": "code",
   "execution_count": 22,
   "id": "91bcdb28",
   "metadata": {
    "scrolled": false
   },
   "outputs": [
    {
     "name": "stdout",
     "output_type": "stream",
     "text": [
      "iteration:  1 \n",
      "cost per link:  [3400.0, 4600.0, 7800.0] \n",
      "congestion per link:  [0.75, 0.4, 1.3333333333333333] \n",
      "sum cost:  15800.0 \n",
      "sum congestion:  2.4833333333333334\n",
      "iteration:  2 \n",
      "cost per link:  [3400.0, 4600.0, 10400.0] \n",
      "congestion per link:  [0.75, 0.4, 0.75] \n",
      "sum cost:  18400.0 \n",
      "sum congestion:  1.9\n",
      "This is our first greedy choice!! \n",
      " ==========================================\n",
      "iteration:  3 \n",
      "cost per link:  [5100.0, 4600.0, 10400.0] \n",
      "congestion per link:  [0.4, 0.4, 0.75] \n",
      "sum cost:  20100.0 \n",
      "sum congestion:  1.55\n",
      "iteration:  4 \n",
      "cost per link:  [5100.0, 4600.0, 13000.0] \n",
      "congestion per link:  [0.4, 0.4, 0.5217391304347826] \n",
      "sum cost:  22700.0 \n",
      "sum congestion:  1.3217391304347825\n",
      "iteration:  5 \n",
      "cost per link:  [5100.0, 4600.0, 15600.0] \n",
      "congestion per link:  [0.4, 0.4, 0.4] \n",
      "sum cost:  25300.0 \n",
      "sum congestion:  1.2000000000000002\n",
      "iteration:  6 \n",
      "cost per link:  [5100.0, 4600.0, 18200.0] \n",
      "congestion per link:  [0.4, 0.4, 0.32432432432432434] \n",
      "sum cost:  27900.0 \n",
      "sum congestion:  1.1243243243243244\n",
      "iteration:  7 \n",
      "cost per link:  [5100.0, 4600.0, 18200.0] \n",
      "congestion per link:  [0.4, 0.4, 0.32432432432432434] \n",
      "sum cost:  27900.0 \n",
      "sum congestion:  1.1243243243243244\n"
     ]
    }
   ],
   "source": [
    "difference = 100\n",
    "flag = False\n",
    "delta = np.ones(line_num)\n",
    "while(sum(delta) != 0):\n",
    "    iteration += 1\n",
    "    min_delta = 10000\n",
    "    delta = np.zeros(line_num)\n",
    "    for l in range(0,line_num):\n",
    "        if can_per_line[l]:\n",
    "            value = can_per_line[l][0]\n",
    "            delta[l] = (prev_congestion[l]- value[1]) / (prev_cost[l] - value[0])\n",
    "        if delta[l] < min_delta:\n",
    "            min_delta = delta[l]\n",
    "            index = l\n",
    "    if can_per_line[index]:\n",
    "        value = can_per_line[index].pop(0)\n",
    "        prev_cost[index] = value[0]\n",
    "        prev_congestion[index] = value[1]\n",
    "    difference = sum(prev_cost) - cost_sum\n",
    "    cost_sum = (sum(prev_cost))\n",
    "    cong_sum = sum(prev_congestion)\n",
    "    print(\"iteration: \", iteration , \"\\ncost per link: \", prev_cost, \"\\ncongestion per link: \",\n",
    "      prev_congestion, \"\\nsum cost: \", cost_sum, \"\\nsum congestion: \", cong_sum)\n",
    "    if cong_sum/sum_flow <= 0.2 and flag == False:\n",
    "        flag = True\n",
    "        print('This is our first greedy choice!! \\n ==========================================')"
   ]
  },
  {
   "cell_type": "code",
   "execution_count": null,
   "id": "6094519a",
   "metadata": {},
   "outputs": [],
   "source": []
  }
 ],
 "metadata": {
  "kernelspec": {
   "display_name": "Python 3 (ipykernel)",
   "language": "python",
   "name": "python3"
  },
  "language_info": {
   "codemirror_mode": {
    "name": "ipython",
    "version": 3
   },
   "file_extension": ".py",
   "mimetype": "text/x-python",
   "name": "python",
   "nbconvert_exporter": "python",
   "pygments_lexer": "ipython3",
   "version": "3.10.2"
  }
 },
 "nbformat": 4,
 "nbformat_minor": 5
}
